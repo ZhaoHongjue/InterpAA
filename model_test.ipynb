{
 "cells": [
  {
   "cell_type": "code",
   "execution_count": 5,
   "metadata": {},
   "outputs": [],
   "source": [
    "import torch\n",
    "from torch import nn\n",
    "\n",
    "from model import *\n",
    "import utils"
   ]
  },
  {
   "attachments": {},
   "cell_type": "markdown",
   "metadata": {},
   "source": [
    "### AlexNet for FashionMNIST"
   ]
  },
  {
   "cell_type": "code",
   "execution_count": 6,
   "metadata": {},
   "outputs": [
    {
     "name": "stdout",
     "output_type": "stream",
     "text": [
      "389450\n",
      "conv1     \t\t\ttorch.Size([128, 64, 28, 28])\n",
      "relu1     \t\t\ttorch.Size([128, 64, 28, 28])\n",
      "maxpool1  \t\t\ttorch.Size([128, 64, 15, 15])\n",
      "conv3     \t\t\ttorch.Size([128, 128, 15, 15])\n",
      "relu3     \t\t\ttorch.Size([128, 128, 15, 15])\n",
      "conv4     \t\t\ttorch.Size([128, 128, 15, 15])\n",
      "relu4     \t\t\ttorch.Size([128, 128, 15, 15])\n",
      "conv5     \t\t\ttorch.Size([128, 128, 15, 15])\n",
      "relu5     \t\t\ttorch.Size([128, 128, 15, 15])\n",
      "maxpool3  \t\t\ttorch.Size([128, 128, 8, 8])\n",
      "gap       \t\t\ttorch.Size([128, 128])\n",
      "fc        \t\t\ttorch.Size([128, 10])\n"
     ]
    }
   ],
   "source": [
    "X = torch.rand((128, 1, 28, 28))\n",
    "alex_fashion = AlexNet(1, 10, use_gap = True)\n",
    "p_num = sum([p.numel() for p in alex_fashion.parameters()])\n",
    "print(p_num)\n",
    "verbose_alex = utils.VerboseExe(alex_fashion)\n",
    "_ = verbose_alex(X)"
   ]
  },
  {
   "cell_type": "code",
   "execution_count": 7,
   "metadata": {},
   "outputs": [
    {
     "name": "stdout",
     "output_type": "stream",
     "text": [
      "390602\n",
      "conv1     \t\t\ttorch.Size([128, 64, 32, 32])\n",
      "relu1     \t\t\ttorch.Size([128, 64, 32, 32])\n",
      "maxpool1  \t\t\ttorch.Size([128, 64, 17, 17])\n",
      "conv3     \t\t\ttorch.Size([128, 128, 17, 17])\n",
      "relu3     \t\t\ttorch.Size([128, 128, 17, 17])\n",
      "conv4     \t\t\ttorch.Size([128, 128, 17, 17])\n",
      "relu4     \t\t\ttorch.Size([128, 128, 17, 17])\n",
      "conv5     \t\t\ttorch.Size([128, 128, 17, 17])\n",
      "relu5     \t\t\ttorch.Size([128, 128, 17, 17])\n",
      "maxpool3  \t\t\ttorch.Size([128, 128, 9, 9])\n",
      "gap       \t\t\ttorch.Size([128, 128])\n",
      "fc        \t\t\ttorch.Size([128, 10])\n"
     ]
    }
   ],
   "source": [
    "X = torch.rand((128, 3, 32, 32))\n",
    "alex_cifar = AlexNet(3, 10, use_gap = True)\n",
    "p_num = sum([p.numel() for p in alex_cifar.parameters()])\n",
    "print(p_num)\n",
    "verbose_alex = utils.VerboseExe(alex_cifar)\n",
    "_ = verbose_alex(X)"
   ]
  }
 ],
 "metadata": {
  "kernelspec": {
   "display_name": "taylor",
   "language": "python",
   "name": "python3"
  },
  "language_info": {
   "codemirror_mode": {
    "name": "ipython",
    "version": 3
   },
   "file_extension": ".py",
   "mimetype": "text/x-python",
   "name": "python",
   "nbconvert_exporter": "python",
   "pygments_lexer": "ipython3",
   "version": "3.10.8"
  },
  "orig_nbformat": 4
 },
 "nbformat": 4,
 "nbformat_minor": 2
}
