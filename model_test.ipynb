{
 "cells": [
  {
   "cell_type": "code",
   "execution_count": 1,
   "metadata": {},
   "outputs": [],
   "source": [
    "import torch\n",
    "from torch import nn\n",
    "\n",
    "from model import *\n",
    "import utils"
   ]
  },
  {
   "attachments": {},
   "cell_type": "markdown",
   "metadata": {},
   "source": [
    "### AlexNet"
   ]
  },
  {
   "cell_type": "code",
   "execution_count": 2,
   "metadata": {},
   "outputs": [
    {
     "name": "stdout",
     "output_type": "stream",
     "text": [
      "389130\n",
      "conv1     \t\t\ttorch.Size([128, 32, 28, 28])\n",
      "relu1     \t\t\ttorch.Size([128, 32, 28, 28])\n",
      "maxpool1  \t\t\ttorch.Size([128, 32, 15, 15])\n",
      "conv2     \t\t\ttorch.Size([128, 64, 15, 15])\n",
      "relu2     \t\t\ttorch.Size([128, 64, 15, 15])\n",
      "maxpool2  \t\t\ttorch.Size([128, 64, 8, 8])\n",
      "conv3     \t\t\ttorch.Size([128, 128, 8, 8])\n",
      "relu3     \t\t\ttorch.Size([128, 128, 8, 8])\n",
      "conv4     \t\t\ttorch.Size([128, 128, 8, 8])\n",
      "relu4     \t\t\ttorch.Size([128, 128, 8, 8])\n",
      "conv5     \t\t\ttorch.Size([128, 128, 8, 8])\n",
      "relu5     \t\t\ttorch.Size([128, 128, 8, 8])\n",
      "maxpool3  \t\t\ttorch.Size([128, 128, 5, 5])\n",
      "gap       \t\t\ttorch.Size([128, 128])\n",
      "fc        \t\t\ttorch.Size([128, 10])\n"
     ]
    }
   ],
   "source": [
    "X = torch.rand((128, 1, 28, 28))\n",
    "alex_fashion = AlexNet(1, 10, use_gap = True)\n",
    "p_num = sum([p.numel() for p in alex_fashion.parameters()])\n",
    "print(p_num)\n",
    "verbose_alex = utils.VerboseExe(alex_fashion)\n",
    "_ = verbose_alex(X)"
   ]
  },
  {
   "cell_type": "code",
   "execution_count": 3,
   "metadata": {},
   "outputs": [
    {
     "name": "stdout",
     "output_type": "stream",
     "text": [
      "389706\n",
      "conv1     \t\t\ttorch.Size([128, 32, 32, 32])\n",
      "relu1     \t\t\ttorch.Size([128, 32, 32, 32])\n",
      "maxpool1  \t\t\ttorch.Size([128, 32, 17, 17])\n",
      "conv2     \t\t\ttorch.Size([128, 64, 17, 17])\n",
      "relu2     \t\t\ttorch.Size([128, 64, 17, 17])\n",
      "maxpool2  \t\t\ttorch.Size([128, 64, 9, 9])\n",
      "conv3     \t\t\ttorch.Size([128, 128, 9, 9])\n",
      "relu3     \t\t\ttorch.Size([128, 128, 9, 9])\n",
      "conv4     \t\t\ttorch.Size([128, 128, 9, 9])\n",
      "relu4     \t\t\ttorch.Size([128, 128, 9, 9])\n",
      "conv5     \t\t\ttorch.Size([128, 128, 9, 9])\n",
      "relu5     \t\t\ttorch.Size([128, 128, 9, 9])\n",
      "maxpool3  \t\t\ttorch.Size([128, 128, 5, 5])\n",
      "gap       \t\t\ttorch.Size([128, 128])\n",
      "fc        \t\t\ttorch.Size([128, 10])\n"
     ]
    }
   ],
   "source": [
    "X = torch.rand((128, 3, 32, 32))\n",
    "alex_cifar = AlexNet(3, 10, use_gap = True)\n",
    "p_num = sum([p.numel() for p in alex_cifar.parameters()])\n",
    "print(p_num)\n",
    "verbose_alex = utils.VerboseExe(alex_cifar)\n",
    "_ = verbose_alex(X)"
   ]
  },
  {
   "attachments": {},
   "cell_type": "markdown",
   "metadata": {},
   "source": [
    "### VGG"
   ]
  },
  {
   "cell_type": "code",
   "execution_count": 4,
   "metadata": {},
   "outputs": [
    {
     "name": "stdout",
     "output_type": "stream",
     "text": [
      "1922570\n",
      "vgg_blk1  \t\t\ttorch.Size([128, 64, 16, 16])\n",
      "vgg_blk2  \t\t\ttorch.Size([128, 128, 8, 8])\n",
      "vgg_blk3  \t\t\ttorch.Size([128, 256, 4, 4])\n",
      "gap       \t\t\ttorch.Size([128, 256])\n",
      "fc        \t\t\ttorch.Size([128, 10])\n"
     ]
    }
   ],
   "source": [
    "X = torch.rand(128, 3, 32, 32)\n",
    "conv_arch = ((3, 64), (3, 128), (3, 256))\n",
    "conv_arch = [[3, 64], [3, 128], [3, 256]]\n",
    "vgg = VGG(3, 10, conv_arch, use_gap = True)\n",
    "print(sum([p.numel() for p in vgg.parameters()]))\n",
    "verbose_vgg = utils.VerboseExe(vgg)\n",
    "_ = verbose_vgg(X)\n",
    "\n",
    "# print(vgg)\n",
    "# for module in vgg.vgg_blks:\n",
    "#     X = module(X)\n",
    "#     print(module.__class__.__name__, X.shape)\n",
    "# print(vgg.vgg_blks[0](X).shape)\n"
   ]
  },
  {
   "attachments": {},
   "cell_type": "markdown",
   "metadata": {},
   "source": [
    "### NiN"
   ]
  },
  {
   "cell_type": "code",
   "execution_count": 2,
   "metadata": {},
   "outputs": [
    {
     "name": "stdout",
     "output_type": "stream",
     "text": [
      "2294374\n",
      "nin_blk1  \t\t\ttorch.Size([128, 64, 28, 28])\n",
      "maxpool1  \t\t\ttorch.Size([128, 64, 14, 14])\n",
      "nin_blk2  \t\t\ttorch.Size([128, 128, 14, 14])\n",
      "maxpool2  \t\t\ttorch.Size([128, 128, 7, 7])\n",
      "nin_blk3  \t\t\ttorch.Size([128, 256, 7, 7])\n",
      "maxpool3  \t\t\ttorch.Size([128, 256, 6, 6])\n",
      "dropout1  \t\t\ttorch.Size([128, 256, 6, 6])\n",
      "nin_blk4  \t\t\ttorch.Size([128, 512, 6, 6])\n",
      "maxpool4  \t\t\ttorch.Size([128, 512, 5, 5])\n",
      "dropout2  \t\t\ttorch.Size([128, 512, 5, 5])\n",
      "nin_blk5  \t\t\ttorch.Size([128, 10, 5, 5])\n",
      "maxpool5  \t\t\ttorch.Size([128, 10, 4, 4])\n",
      "dropout   \t\t\ttorch.Size([128, 10, 4, 4])\n",
      "gap       \t\t\ttorch.Size([128, 10])\n"
     ]
    }
   ],
   "source": [
    "X = torch.rand((128, 1, 28, 28))\n",
    "ninblk = NiN(1, 10)\n",
    "p_num = sum([p.numel() for p in ninblk.parameters()])\n",
    "print(p_num)\n",
    "verbose_nin = utils.VerboseExe(ninblk)\n",
    "_ = verbose_nin(X)"
   ]
  },
  {
   "attachments": {},
   "cell_type": "markdown",
   "metadata": {},
   "source": [
    "### ResNet"
   ]
  },
  {
   "cell_type": "code",
   "execution_count": 2,
   "metadata": {},
   "outputs": [
    {
     "name": "stdout",
     "output_type": "stream",
     "text": [
      "5614090\n",
      "conv1     \t\t\ttorch.Size([128, 64, 16, 16])\n",
      "bn1       \t\t\ttorch.Size([128, 64, 16, 16])\n",
      "relu1     \t\t\ttorch.Size([128, 64, 16, 16])\n",
      "maxpool1  \t\t\ttorch.Size([128, 64, 8, 8])\n",
      "res_blk1  \t\t\ttorch.Size([128, 64, 8, 8])\n",
      "res_blk2  \t\t\ttorch.Size([128, 64, 8, 8])\n",
      "res_blk3  \t\t\ttorch.Size([128, 128, 8, 8])\n",
      "res_blk4  \t\t\ttorch.Size([128, 128, 8, 8])\n",
      "res_blk5  \t\t\ttorch.Size([128, 256, 8, 8])\n",
      "res_blk6  \t\t\ttorch.Size([128, 256, 8, 8])\n",
      "res_blk7  \t\t\ttorch.Size([128, 512, 8, 8])\n",
      "res_blk8  \t\t\ttorch.Size([128, 512, 8, 8])\n",
      "gap       \t\t\ttorch.Size([128, 512])\n",
      "fc        \t\t\ttorch.Size([128, 10])\n"
     ]
    }
   ],
   "source": [
    "X = torch.rand((128, 3, 32, 32))\n",
    "res = ResNet(3, 10)\n",
    "p_num = sum([p.numel() for p in res.parameters()])\n",
    "print(p_num)\n",
    "ver_res = utils.VerboseExe(res)\n",
    "_ = ver_res(X)"
   ]
  }
 ],
 "metadata": {
  "kernelspec": {
   "display_name": "taylor",
   "language": "python",
   "name": "python3"
  },
  "language_info": {
   "codemirror_mode": {
    "name": "ipython",
    "version": 3
   },
   "file_extension": ".py",
   "mimetype": "text/x-python",
   "name": "python",
   "nbconvert_exporter": "python",
   "pygments_lexer": "ipython3",
   "version": "3.10.9"
  },
  "orig_nbformat": 4
 },
 "nbformat": 4,
 "nbformat_minor": 2
}
